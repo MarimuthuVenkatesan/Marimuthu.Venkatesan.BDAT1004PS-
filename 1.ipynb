{
 "cells": [
  {
   "cell_type": "markdown",
   "id": "87f13a1a",
   "metadata": {},
   "source": [
    "## Q1. What data type is each of the following?"
   ]
  },
  {
   "cell_type": "code",
   "execution_count": null,
   "id": "4cd9dda6",
   "metadata": {},
   "outputs": [],
   "source": [
    "5 = Integer\n",
    "\n",
    "5.0 = float\n",
    "\n",
    "5 > 1 = Boolean\n",
    "\n",
    "'5' = string\n",
    "\n",
    " 5 * 2 = integer\n",
    "\n",
    "'5' * 2 = string\n",
    "\n",
    "'5' + '2' = string\n",
    "\n",
    "5 / 2 = float\n",
    "\n",
    "5 % 2 = integer\n",
    "\n",
    "{5, 2, 1} = tuples\n",
    "\n",
    "5 == 3 = Boolean\n",
    "\n",
    "Pi (the number) = float"
   ]
  }
 ],
 "metadata": {
  "kernelspec": {
   "display_name": "Python 3 (ipykernel)",
   "language": "python",
   "name": "python3"
  },
  "language_info": {
   "codemirror_mode": {
    "name": "ipython",
    "version": 3
   },
   "file_extension": ".py",
   "mimetype": "text/x-python",
   "name": "python",
   "nbconvert_exporter": "python",
   "pygments_lexer": "ipython3",
   "version": "3.9.12"
  }
 },
 "nbformat": 4,
 "nbformat_minor": 5
}
