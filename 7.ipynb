{
 "cells": [
  {
   "cell_type": "markdown",
   "id": "b2db6d36",
   "metadata": {},
   "source": [
    "7. File bloodtype1.txt records blood-types of patients (A, B, AB, O or OO) at a clinic.\n",
    "Write a function bldcount() that reads the file with name name and reports (i.e.,\n",
    "prints) how many patients there are in each bloodtype."
   ]
  },
  {
   "cell_type": "code",
   "execution_count": 1,
   "id": "453f710c",
   "metadata": {},
   "outputs": [
    {
     "name": "stdout",
     "output_type": "stream",
     "text": [
      "['AB', 'AB', 'B', 'O', 'A', 'A', 'AB', 'O', 'AB', 'A', 'O', 'O', 'A', 'A', 'A', 'O', 'O', 'O', 'AB', 'O', 'A', 'A', 'A', 'A', 'A', 'AB', 'AB', 'A', 'AB', 'O', 'AB', 'O', 'A', 'O', 'O', 'O', 'AB', 'O', 'AB', 'AB', 'AB', 'A', 'A', 'O']\n",
      "There are 13 patients of blood type AB\n",
      "There are 15 patients of blood type A\n",
      "There are 15 patients of blood type O\n",
      "There are 1 patients of blood type B\n"
     ]
    }
   ],
   "source": [
    "def bldcount(filename):\n",
    "    infile = open(filename)\n",
    "    content = infile.read()\n",
    "    infile.close()\n",
    "    wordlist = content.split()\n",
    "    print(wordlist)\n",
    "    print(\"There are\",wordlist.count('AB'),\"patients of blood type AB\")\n",
    "    print(\"There are\",wordlist.count('A'),\"patients of blood type A\")\n",
    "    print(\"There are\",wordlist.count('O'),\"patients of blood type O\")\n",
    "    print(\"There are\",wordlist.count('B'),\"patients of blood type B\")\n",
    "bldcount('Bloodtype.txt')\n"
   ]
  },
  {
   "cell_type": "code",
   "execution_count": null,
   "id": "edf34826",
   "metadata": {},
   "outputs": [],
   "source": []
  }
 ],
 "metadata": {
  "kernelspec": {
   "display_name": "Python 3 (ipykernel)",
   "language": "python",
   "name": "python3"
  },
  "language_info": {
   "codemirror_mode": {
    "name": "ipython",
    "version": 3
   },
   "file_extension": ".py",
   "mimetype": "text/x-python",
   "name": "python",
   "nbconvert_exporter": "python",
   "pygments_lexer": "ipython3",
   "version": "3.9.12"
  }
 },
 "nbformat": 4,
 "nbformat_minor": 5
}
