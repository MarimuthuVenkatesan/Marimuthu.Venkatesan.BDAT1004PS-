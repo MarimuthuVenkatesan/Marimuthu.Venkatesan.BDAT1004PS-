{
 "cells": [
  {
   "cell_type": "markdown",
   "id": "2433c3a0",
   "metadata": {},
   "source": [
    "16. You can turn a word into pig-Latin using the following two rules(simplified):\n",
    "• If the word starts with a consonant, move that letter to the end and append\n",
    "'ay'. For example, 'happy' becomes 'appyhay' and 'pencil' becomes 'encilpay'.\n",
    "• If the word starts with a vowel, simply append 'way' to the end of the word.\n",
    "For example, 'enter' becomes 'enterway' and 'other' becomes 'otherway' . For\n",
    "our purposes, there are 5 vowels: a, e, i, o, u (so we count y as a consonant).\n",
    "Write a function pig() that takes a word (i.e., a string) as input and returns its pigLatin form. Your function should still work if the input word contains upper case\n",
    "characters. Your output should always be lower case however."
   ]
  },
  {
   "cell_type": "code",
   "execution_count": 2,
   "id": "801726bd",
   "metadata": {},
   "outputs": [
    {
     "name": "stdout",
     "output_type": "stream",
     "text": [
      "Enter a word to translate marimuthu\n",
      "M is a consonant\n",
      "The word in Pig Latin is: arimuthuMay\n"
     ]
    }
   ],
   "source": [
    "def pig(user_word):\n",
    "    ay = 'ay'\n",
    "    way = 'way'\n",
    "    consonant = ('B','C','D','F','G','H','J','K','L','M','N','P','Q','R','S','T','Y','V','X','Z')\n",
    "    vowel = ('A','E','I','O','U')\n",
    "    # make sure that the first letter is string and seeting up to uppercase\n",
    "    first_letter = user_word[0]\n",
    "    first_letter = str(first_letter)\n",
    "    first_letter=first_letter.upper()\n",
    "    if first_letter in consonant:\n",
    "       print(first_letter,'is a consonant')\n",
    "       length_of_word = len(user_word)\n",
    "       remove_first_letter = user_word[1:length_of_word]\n",
    "       pig_latin=remove_first_letter+first_letter+ay\n",
    "       print('The word in Pig Latin is:',pig_latin)\n",
    "    elif first_letter in vowel:\n",
    "       print(first_letter,'is a vowel')\n",
    "       pig_latin=user_word+way\n",
    "       print('The word in Pig Latin is:',pig_latin)\n",
    "    else:\n",
    "       print('Invalid ',first_letter,'is')\n",
    "word = input('Enter a word to translate ')\n",
    "pig(word)"
   ]
  },
  {
   "cell_type": "code",
   "execution_count": null,
   "id": "e9b92476",
   "metadata": {},
   "outputs": [],
   "source": []
  }
 ],
 "metadata": {
  "kernelspec": {
   "display_name": "Python 3 (ipykernel)",
   "language": "python",
   "name": "python3"
  },
  "language_info": {
   "codemirror_mode": {
    "name": "ipython",
    "version": 3
   },
   "file_extension": ".py",
   "mimetype": "text/x-python",
   "name": "python",
   "nbconvert_exporter": "python",
   "pygments_lexer": "ipython3",
   "version": "3.9.12"
  }
 },
 "nbformat": 4,
 "nbformat_minor": 5
}
