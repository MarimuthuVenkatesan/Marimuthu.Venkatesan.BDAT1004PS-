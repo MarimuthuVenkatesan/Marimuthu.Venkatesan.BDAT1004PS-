{
 "cells": [
  {
   "cell_type": "code",
   "execution_count": 21,
   "id": "c56efc6b",
   "metadata": {},
   "outputs": [
    {
     "data": {
      "text/plain": [
       "0          3\n",
       "1          4\n",
       "2          4\n",
       "3          2\n",
       "4          2\n",
       "       ...  \n",
       "295    22506\n",
       "296    15665\n",
       "297    20337\n",
       "298    24550\n",
       "299    23388\n",
       "Length: 300, dtype: int32"
      ]
     },
     "execution_count": 21,
     "metadata": {},
     "output_type": "execute_result"
    }
   ],
   "source": [
    "import random\n",
    "import pandas as pd\n",
    "import numpy as np\n",
    "\n",
    "# First\n",
    "series1 = pd.Series(np.random.randint(1,5,100))\n",
    "series1\n",
    "# Second\n",
    "series2 = pd.Series(np.random.randint(1,4,100))\n",
    "series2\n",
    "# Third\n",
    "series3 = pd.Series(np.random.randint(10000,30000,100))\n",
    "series3\n",
    "# Joining series\n",
    "dataFrame1 = pd.concat([series1, series2, series3], axis = 1)\n",
    "dataFrame1\n",
    "# Changing names of the columns\n",
    "dataFrame1.columns = ['bedrs','bathrs','price_sqr_meter']\n",
    "dataFrame1\n",
    "bigcolumn = pd.concat([series1, series2, series3], axis = 0)\n",
    "bigcolumn\n",
    "# Calculating total\n",
    "len(bigcolumn) # True\n",
    "bigcolumn.index = range(0, 300)\n",
    "bigcolumn\n",
    "\n"
   ]
  },
  {
   "cell_type": "code",
   "execution_count": null,
   "id": "c53cfe14",
   "metadata": {},
   "outputs": [],
   "source": []
  }
 ],
 "metadata": {
  "kernelspec": {
   "display_name": "Python 3 (ipykernel)",
   "language": "python",
   "name": "python3"
  },
  "language_info": {
   "codemirror_mode": {
    "name": "ipython",
    "version": 3
   },
   "file_extension": ".py",
   "mimetype": "text/x-python",
   "name": "python",
   "nbconvert_exporter": "python",
   "pygments_lexer": "ipython3",
   "version": "3.9.12"
  }
 },
 "nbformat": 4,
 "nbformat_minor": 5
}
