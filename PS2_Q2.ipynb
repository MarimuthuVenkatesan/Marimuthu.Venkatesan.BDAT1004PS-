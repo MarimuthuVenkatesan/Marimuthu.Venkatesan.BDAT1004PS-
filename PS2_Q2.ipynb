{
 "cells": [
  {
   "cell_type": "code",
   "execution_count": 42,
   "id": "72222dac",
   "metadata": {},
   "outputs": [
    {
     "name": "stdout",
     "output_type": "stream",
     "text": [
      "123\n",
      "1986\n",
      "File nof.ipynb not found.\n"
     ]
    }
   ],
   "source": [
    "def fileLength(fname):\n",
    "    try:\n",
    "        file=open(fname,'r')\n",
    "        data=file.readlines()\n",
    "        line=\"\"\n",
    "        for i in data:\n",
    "            line+=i\n",
    "        result=len(line)\n",
    "        return result\n",
    "    except FileNotFoundError:\n",
    "        return (\"File {} not found.\".format(fname))\n",
    "\n",
    "print(fileLength('Filelength.py'))\n",
    "print(fileLength('PriorityQueue.ipynb'))\n",
    "print(fileLength('nof.ipynb'))"
   ]
  },
  {
   "cell_type": "code",
   "execution_count": null,
   "id": "c1fa3206",
   "metadata": {},
   "outputs": [],
   "source": []
  },
  {
   "cell_type": "code",
   "execution_count": null,
   "id": "fbaa1f89",
   "metadata": {},
   "outputs": [],
   "source": []
  }
 ],
 "metadata": {
  "kernelspec": {
   "display_name": "Python 3 (ipykernel)",
   "language": "python",
   "name": "python3"
  },
  "language_info": {
   "codemirror_mode": {
    "name": "ipython",
    "version": 3
   },
   "file_extension": ".py",
   "mimetype": "text/x-python",
   "name": "python",
   "nbconvert_exporter": "python",
   "pygments_lexer": "ipython3",
   "version": "3.9.12"
  }
 },
 "nbformat": 4,
 "nbformat_minor": 5
}
