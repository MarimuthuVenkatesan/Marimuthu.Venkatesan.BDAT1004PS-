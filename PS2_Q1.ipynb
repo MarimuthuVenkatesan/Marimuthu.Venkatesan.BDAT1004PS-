{
 "cells": [
  {
   "cell_type": "code",
   "execution_count": 8,
   "id": "ca8ac749",
   "metadata": {},
   "outputs": [],
   "source": [
    "a = 0\n",
    "\n",
    "def b():\n",
    "    global a\n",
    "    a = c(a)\n",
    "def c(a):\n",
    "    return a + 2"
   ]
  },
  {
   "cell_type": "code",
   "execution_count": 9,
   "id": "e3b6026f",
   "metadata": {},
   "outputs": [],
   "source": [
    "b()"
   ]
  },
  {
   "cell_type": "code",
   "execution_count": 10,
   "id": "b153ac72",
   "metadata": {},
   "outputs": [],
   "source": [
    "b()"
   ]
  },
  {
   "cell_type": "code",
   "execution_count": 11,
   "id": "bc6d61fe",
   "metadata": {},
   "outputs": [],
   "source": [
    "b()"
   ]
  },
  {
   "cell_type": "code",
   "execution_count": 12,
   "id": "f811c7b8",
   "metadata": {},
   "outputs": [
    {
     "data": {
      "text/plain": [
       "6"
      ]
     },
     "execution_count": 12,
     "metadata": {},
     "output_type": "execute_result"
    }
   ],
   "source": [
    "a"
   ]
  },
  {
   "cell_type": "markdown",
   "id": "ec113d10",
   "metadata": {},
   "source": [
    "There are two functions b() and c()\n",
    "'a' is a variable\n",
    "everytime you invoke b() function it invokes c() funtion and initialized to 'a' variable \n",
    "three times the funtion b() in invoked so initially variable a=0 so if if you call the function b() three times it will add 2 each time"
   ]
  },
  {
   "cell_type": "code",
   "execution_count": null,
   "id": "83a4a1e9",
   "metadata": {},
   "outputs": [],
   "source": []
  }
 ],
 "metadata": {
  "kernelspec": {
   "display_name": "Python 3 (ipykernel)",
   "language": "python",
   "name": "python3"
  },
  "language_info": {
   "codemirror_mode": {
    "name": "ipython",
    "version": 3
   },
   "file_extension": ".py",
   "mimetype": "text/x-python",
   "name": "python",
   "nbconvert_exporter": "python",
   "pygments_lexer": "ipython3",
   "version": "3.9.12"
  }
 },
 "nbformat": 4,
 "nbformat_minor": 5
}
