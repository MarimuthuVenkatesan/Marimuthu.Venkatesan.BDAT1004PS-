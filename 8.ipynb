{
 "cells": [
  {
   "cell_type": "code",
   "execution_count": 1,
   "id": "945f70a0",
   "metadata": {},
   "outputs": [],
   "source": [
    "import re"
   ]
  },
  {
   "cell_type": "code",
   "execution_count": 9,
   "id": "7ac5d9b5",
   "metadata": {},
   "outputs": [
    {
     "name": "stdout",
     "output_type": "stream",
     "text": [
      "['AUD', '1.0345157', 'Australian', 'Dollar', 'CHF', '1.0237414', 'Swiss', 'Franc', 'CNY', '0.1550176', 'Chinese', 'Yuan', 'DKK', '0.1651442', 'Danish', 'Krone', 'EUR', '1.2296544', 'Euro', 'GBP', '1.5550989', 'British', 'Pound', 'HKD', '0.1270207', 'Hong', 'Kong', 'Dollar', 'INR', '0.0177643', 'Indian', 'Rupee', 'JPY', '0.01241401', 'Japanese', 'Yen', 'MXN', '0.0751848', 'Mexican', 'Peso', 'MYR', '0.3145411', 'Malaysian', 'Ringgit', 'NOK', '0.1677063', 'Norwegian', 'Krone', 'NZD', '0.8003591', 'New', 'Zealand', 'Dollar', 'PHP', '0.0233234', 'Philippine', 'Peso', 'SEK', '0.148269', 'Swedish', 'Krona', 'SGD', '0.788871', 'Singapore', 'Dollar', 'THB', '0.0313789', 'Thai', 'Baht']\n",
      "0\n"
     ]
    }
   ],
   "source": [
    "def curconv(a,b):\n",
    "    ans=0\n",
    "    infile = open('currencies.txt','r')\n",
    "    linelist = infile.read()\n",
    "    infile.close()\n",
    "    #print(linelist)\n",
    "    linelist1 = linelist.split()\n",
    "    #\n",
    "    print(linelist1)    \n",
    "    val = re.findall('\\d*\\.?\\d+',linelist)\n",
    "    coun = re.findall('[A-Z][A-Z][A-Z]',linelist)\n",
    "    for i in range(len(coun)):\n",
    "        if(coun[i]==a):\n",
    "            ans=b*val[i]\n",
    "            break\n",
    "        return ans;\n",
    "print(curconv(\"INR\",100))\n"
   ]
  },
  {
   "cell_type": "code",
   "execution_count": null,
   "id": "1abe43f4",
   "metadata": {},
   "outputs": [],
   "source": []
  }
 ],
 "metadata": {
  "kernelspec": {
   "display_name": "Python 3 (ipykernel)",
   "language": "python",
   "name": "python3"
  },
  "language_info": {
   "codemirror_mode": {
    "name": "ipython",
    "version": 3
   },
   "file_extension": ".py",
   "mimetype": "text/x-python",
   "name": "python",
   "nbconvert_exporter": "python",
   "pygments_lexer": "ipython3",
   "version": "3.9.12"
  }
 },
 "nbformat": 4,
 "nbformat_minor": 5
}
